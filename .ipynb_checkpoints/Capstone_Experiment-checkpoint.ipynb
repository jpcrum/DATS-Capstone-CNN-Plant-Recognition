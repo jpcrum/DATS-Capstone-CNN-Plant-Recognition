{
 "cells": [
  {
   "cell_type": "code",
   "execution_count": null,
   "metadata": {},
   "outputs": [],
   "source": [
    "import cv2\n",
    "import numpy as np\n",
    "import matplotlib.pyplot as plt\n",
    "import os\n",
    "import keras\n",
    "from keras import backend as K\n",
    "from keras import optimizers\n",
    "from keras.models import Sequential\n",
    "from keras.layers.core import Dense, Flatten, Dropout, Activation\n",
    "from keras.optimizers import Adam\n",
    "from keras.metrics import categorical_crossentropy\n",
    "from keras.preprocessing.image import ImageDataGenerator\n",
    "from keras.layers.normalization import BatchNormalization\n",
    "from keras.layers.convolutional import *\n",
    "from keras.callbacks import EarlyStopping\n",
    "from sklearn.metrics import confusion_matrix, accuracy_score\n",
    "from keras.models import load_model"
   ]
  },
  {
   "cell_type": "code",
   "execution_count": null,
   "metadata": {},
   "outputs": [],
   "source": [
    "### Reproducibility ###\n",
    "import os\n",
    "import random as rn\n",
    "import tensorflow as tf\n",
    "os.environ['PYTHONHASHSEED'] = '0'\n",
    "np.random.seed(29)  # For numpy numbers\n",
    "rn.seed(29)   # For Python\n",
    "tf.set_random_seed(29)    #For Tensorflow\n",
    "\n",
    "\n",
    "\n",
    "gpu_options = tf.GPUOptions(per_process_gpu_memory_fraction=0.5)\n",
    "session_conf = tf.ConfigProto(intra_op_parallelism_threads=1, inter_op_parallelism_threads=1)\n",
    "sess = tf.Session(config=tf.ConfigProto(log_device_placement=True, gpu_options=gpu_options))\n",
    "\n",
    "K.set_session(sess)\n",
    "\n",
    "K.tensorflow_backend._get_available_gpus()"
   ]
  },
  {
   "cell_type": "code",
   "execution_count": null,
   "metadata": {},
   "outputs": [],
   "source": [
    "train_path = \"C:/Users/sjcrum/Documents/GitHub/Plant-Image-Recognition/PlantImages/train\"\n",
    "test_path = \"C:/Users/sjcrum/Documents/GitHub/Plant-Image-Recognition/PlantImages/test\"\n",
    "input_dim = 100\n",
    "\n",
    "def preprocess(image):\n",
    "    norm_im = cv2.normalize(image, None, alpha=0, beta=1, norm_type=cv2.NORM_MINMAX, dtype=cv2.CV_32F)\n",
    "    hsv = cv2.cvtColor(norm_im, cv2.COLOR_BGR2HSV)\n",
    "    mask = cv2.inRange(hsv, (0, 0, 0), (255, 255, 255))\n",
    "    imask = mask > 0\n",
    "    green = np.zeros_like(norm_im, np.uint8)\n",
    "    green[imask] = norm_im[imask]\n",
    "    medblur = cv2.medianBlur(green, 13)\n",
    "    return medblur\n",
    "\n",
    "#preprocessing_function = preprocess\n",
    "\n",
    "train_batches = ImageDataGenerator().flow_from_directory(train_path, target_size=(input_dim, input_dim), batch_size=100)\n",
    "test_batches = ImageDataGenerator().flow_from_directory(test_path, target_size=(input_dim, input_dim), batch_size=100)"
   ]
  },
  {
   "cell_type": "code",
   "execution_count": 4,
   "metadata": {},
   "outputs": [
    {
     "name": "stdout",
     "output_type": "stream",
     "text": [
      "_________________________________________________________________\n",
      "Layer (type)                 Output Shape              Param #   \n",
      "=================================================================\n",
      "conv2d_1 (Conv2D)            (None, 100, 100, 32)      4736      \n",
      "_________________________________________________________________\n",
      "batch_normalization_1 (Batch (None, 100, 100, 32)      128       \n",
      "_________________________________________________________________\n",
      "activation_1 (Activation)    (None, 100, 100, 32)      0         \n",
      "_________________________________________________________________\n",
      "max_pooling2d_1 (MaxPooling2 (None, 50, 50, 32)        0         \n",
      "_________________________________________________________________\n",
      "conv2d_2 (Conv2D)            (None, 50, 50, 32)        50208     \n",
      "_________________________________________________________________\n",
      "batch_normalization_2 (Batch (None, 50, 50, 32)        128       \n",
      "_________________________________________________________________\n",
      "activation_2 (Activation)    (None, 50, 50, 32)        0         \n",
      "_________________________________________________________________\n",
      "max_pooling2d_2 (MaxPooling2 (None, 25, 25, 32)        0         \n",
      "_________________________________________________________________\n",
      "conv2d_3 (Conv2D)            (None, 25, 25, 64)        18496     \n",
      "_________________________________________________________________\n",
      "batch_normalization_3 (Batch (None, 25, 25, 64)        256       \n",
      "_________________________________________________________________\n",
      "activation_3 (Activation)    (None, 25, 25, 64)        0         \n",
      "_________________________________________________________________\n",
      "max_pooling2d_3 (MaxPooling2 (None, 12, 12, 64)        0         \n",
      "_________________________________________________________________\n",
      "conv2d_4 (Conv2D)            (None, 12, 12, 64)        36928     \n",
      "_________________________________________________________________\n",
      "batch_normalization_4 (Batch (None, 12, 12, 64)        256       \n",
      "_________________________________________________________________\n",
      "activation_4 (Activation)    (None, 12, 12, 64)        0         \n",
      "_________________________________________________________________\n",
      "max_pooling2d_4 (MaxPooling2 (None, 6, 6, 64)          0         \n",
      "_________________________________________________________________\n",
      "flatten_1 (Flatten)          (None, 2304)              0         \n",
      "_________________________________________________________________\n",
      "dropout_1 (Dropout)          (None, 2304)              0         \n",
      "_________________________________________________________________\n",
      "fc_2 (Dense)                 (None, 128)               295040    \n",
      "_________________________________________________________________\n",
      "dropout_2 (Dropout)          (None, 128)               0         \n",
      "_________________________________________________________________\n",
      "dense_1 (Dense)              (None, 12)                1548      \n",
      "=================================================================\n",
      "Total params: 407,724\n",
      "Trainable params: 407,340\n",
      "Non-trainable params: 384\n",
      "_________________________________________________________________\n"
     ]
    }
   ],
   "source": [
    "model = load_model(\"C:/Users/sjcrum/Documents/GitHub/Plant-Image-Recognition/Models/11layerCNN-100x100-5epochs-Adam-7x7kernel-32to64FM.h5\")\n",
    "model.summary()"
   ]
  },
  {
   "cell_type": "code",
   "execution_count": 25,
   "metadata": {},
   "outputs": [
    {
     "name": "stdout",
     "output_type": "stream",
     "text": [
      "float32\n",
      "float32\n",
      "[9, 10, 3, 2, 1, 5, 10, 7, 10, 1, 5, 5, 0, 1, 7, 1, 7, 1, 5, 8, 1, 7, 2, 2, 0, 6, 6, 6, 7, 0, 3, 2, 10, 10, 7, 4, 10, 3, 7, 2, 2, 3, 6, 7, 0, 7, 3, 0, 5, 3, 0, 1, 11, 0, 6, 1, 3, 0, 3, 2, 10, 0, 3, 1, 9, 5, 10, 10, 11, 5, 2, 10, 2, 10, 6, 0, 9, 2, 0, 9, 10, 6, 0, 9, 10, 9, 0, 1, 9, 4, 3, 7, 0, 6, 11, 6, 4, 2, 11, 5]\n"
     ]
    }
   ],
   "source": [
    "# # #### Predicting ####\n",
    "#train_ims, train_labels = next(train_batches)\n",
    "test_ims, test_labels = next(test_batches)\n",
    "\n",
    "print(test_ims[0].dtype)\n",
    "\n",
    "for image in test_ims:\n",
    "    image = np.array(image, dtype='uint8')\n",
    "    \n",
    "print(test_ims[0].dtype)\n",
    "\n",
    "# #\n",
    "# train_score = model.evaluate(train_ims, train_labels)\n",
    "# test_score = model.evaluate(test_ims, test_labels)\n",
    "# #\n",
    "# print(train_score)\n",
    "# print(test_score)\n",
    "#\n",
    "# # # First column, class is 1d 0 or 1\n",
    "labels = []\n",
    "for label in test_labels:\n",
    "    lab = np.where(label == max(label))[0][0]\n",
    "    labels.append(lab)\n",
    "    \n",
    "\n",
    "\n",
    "print(labels)"
   ]
  },
  {
   "cell_type": "code",
   "execution_count": 26,
   "metadata": {},
   "outputs": [
    {
     "name": "stdout",
     "output_type": "stream",
     "text": [
      "[[1.7913496e-04 1.3394855e-02 1.1049291e-03 ... 2.2005092e-05\n",
      "  6.1393906e-03 4.7964015e-04]\n",
      " [4.5206028e-07 1.5787631e-01 2.0372802e-02 ... 1.0116274e-04\n",
      "  4.2211187e-01 1.8680365e-03]\n",
      " [1.9623175e-01 5.2918349e-03 2.0723547e-04 ... 4.8059046e-06\n",
      "  5.1248457e-02 1.3650405e-04]\n",
      " ...\n",
      " [3.5784721e-01 1.0534123e-03 6.7961379e-04 ... 3.7804316e-04\n",
      "  1.9693270e-02 7.7783421e-04]\n",
      " [2.6747752e-02 3.5584711e-03 4.5754290e-03 ... 2.3378066e-03\n",
      "  6.1452895e-01 9.3986606e-03]\n",
      " [3.1554680e-07 6.7851037e-02 4.0133198e-04 ... 2.1254122e-05\n",
      "  3.7133041e-01 8.7760047e-05]]\n",
      "[7, 10, 6, 10, 7, 6, 6, 7, 3, 7, 6, 10, 6, 6, 10, 6, 10, 6, 0, 6, 10, 7, 7, 7, 8, 7, 6, 7, 6, 6, 6, 1, 10, 7, 6, 6, 7, 6, 7, 10, 6, 7, 6, 7, 6, 6, 6, 6, 10, 3, 6, 6, 6, 7, 7, 6, 6, 6, 0, 6, 10, 7, 7, 7, 7, 8, 7, 4, 6, 6, 7, 6, 6, 6, 7, 10, 10, 7, 6, 7, 6, 7, 6, 10, 7, 6, 7, 7, 6, 7, 7, 7, 4, 6, 7, 6, 7, 6, 10, 7]\n",
      "[[0 0 0 0 1 0 8 3 1 0 1 0]\n",
      " [0 0 0 0 0 0 5 4 0 0 1 0]\n",
      " [0 1 0 0 0 0 4 4 0 0 2 0]\n",
      " [1 0 0 1 0 0 5 3 0 0 0 0]\n",
      " [0 0 0 0 0 0 1 2 0 0 0 0]\n",
      " [1 0 0 0 0 0 3 1 1 0 2 0]\n",
      " [0 0 0 0 0 0 4 5 0 0 0 0]\n",
      " [0 0 0 0 0 0 3 5 0 0 2 0]\n",
      " [0 0 0 0 0 0 1 0 0 0 0 0]\n",
      " [0 0 0 0 0 0 2 3 0 0 2 0]\n",
      " [0 0 0 1 1 0 4 4 0 0 3 0]\n",
      " [0 0 0 0 0 0 2 1 0 0 1 0]]\n",
      "0.13\n",
      "0.13\n"
     ]
    }
   ],
   "source": [
    "predictions = model.predict_generator(test_batches, steps = 1, verbose = 0)\n",
    "print(predictions)\n",
    "\n",
    "preds = []\n",
    "for prediction in predictions:\n",
    "    label = np.where(prediction == max(prediction))[0][0]\n",
    "    preds.append(label)\n",
    "\n",
    "print(preds)\n",
    "\n",
    "cm = confusion_matrix(labels, preds)\n",
    "print(cm)\n",
    "\n",
    "acc = accuracy_score(labels, preds, normalize=True, sample_weight=None)\n",
    "print(acc)\n",
    "\n",
    "\n",
    "print(acc)"
   ]
  },
  {
   "cell_type": "code",
   "execution_count": 24,
   "metadata": {},
   "outputs": [
    {
     "name": "stdout",
     "output_type": "stream",
     "text": [
      "[[[ 71  54  42]\n",
      "  [ 86  70  62]\n",
      "  [ 86  70  58]\n",
      "  ...\n",
      "  [ 46  42  38]\n",
      "  [ 53  48  39]\n",
      "  [ 23  17  22]]\n",
      "\n",
      " [[118 109  98]\n",
      "  [ 94  79  67]\n",
      "  [ 78  65  52]\n",
      "  ...\n",
      "  [ 50  44  38]\n",
      "  [ 56  50  42]\n",
      "  [ 36  28  28]]\n",
      "\n",
      " [[120 111 100]\n",
      "  [103  93  81]\n",
      "  [ 87  73  63]\n",
      "  ...\n",
      "  [ 72  58  36]\n",
      "  [ 88  75  55]\n",
      "  [ 86  72  57]]\n",
      "\n",
      " ...\n",
      "\n",
      " [[136 130 120]\n",
      "  [ 86  69  48]\n",
      "  [ 76  57  42]\n",
      "  ...\n",
      "  [ 69  66  73]\n",
      "  [ 62  61  65]\n",
      "  [ 62  62  65]]\n",
      "\n",
      " [[151 151 144]\n",
      "  [157 152 147]\n",
      "  [159 155 143]\n",
      "  ...\n",
      "  [157 157 165]\n",
      "  [154 157 165]\n",
      "  [152 155 162]]\n",
      "\n",
      " [[141 140 138]\n",
      "  [ 95  93  90]\n",
      "  [115 113 111]\n",
      "  ...\n",
      "  [163 164 164]\n",
      "  [148 138 143]\n",
      "  [156 149 152]]]\n"
     ]
    },
    {
     "data": {
      "image/png": "[encoded data removed]",
      "text/plain": [
       "<Figure size 432x288 with 1 Axes>"
      ]
     },
     "metadata": {},
     "output_type": "display_data"
    }
   ],
   "source": [
    "image = np.array(test_ims[2], dtype='uint8')\n",
    "print(image)\n",
    "plt.imshow(image)\n",
    "plt.show()"
   ]
  },
  {
   "cell_type": "code",
   "execution_count": null,
   "metadata": {
    "collapsed": true
   },
   "outputs": [],
   "source": []
  }
 ],
 "metadata": {
  "kernelspec": {
   "display_name": "Python 3",
   "language": "python",
   "name": "python3"
  },
  "language_info": {
   "codemirror_mode": {
    "name": "ipython",
    "version": 3
   },
   "file_extension": ".py",
   "mimetype": "text/x-python",
   "name": "python",
   "nbconvert_exporter": "python",
   "pygments_lexer": "ipython3",
   "version": "3.6.3"
  }
 },
 "nbformat": 4,
 "nbformat_minor": 2
}
