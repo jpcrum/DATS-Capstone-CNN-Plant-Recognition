{
 "cells": [
  {
   "cell_type": "code",
   "execution_count": 1,
   "metadata": {
    "collapsed": true
   },
   "outputs": [],
   "source": [
    "import numpy as np\n",
    "import pandas as pd\n",
    "import matplotlib.pyplot as plt\n",
    "import seaborn as sns\n",
    "from sklearn.metrics import confusion_matrix"
   ]
  },
  {
   "cell_type": "code",
   "execution_count": 2,
   "metadata": {},
   "outputs": [
    {
     "ename": "SyntaxError",
     "evalue": "invalid syntax (<ipython-input-2-0c5e2c05a837>, line 1)",
     "output_type": "error",
     "traceback": [
      "\u001b[1;36m  File \u001b[1;32m\"<ipython-input-2-0c5e2c05a837>\"\u001b[1;36m, line \u001b[1;32m1\u001b[0m\n\u001b[1;33m    cm = [[188   0   0  62  31   4 106   8   3 339   0   9   0   0   0   0]\u001b[0m\n\u001b[1;37m                 ^\u001b[0m\n\u001b[1;31mSyntaxError\u001b[0m\u001b[1;31m:\u001b[0m invalid syntax\n"
     ]
    }
   ],
   "source": [
    "cm = [[188,0,0,62,  31   4 106   8   3 339   0   9   0   0   0   0]\n",
    " [  9  17   0  89  61   3 173  66  18 229  21  46   0  17   1   0]\n",
    " [ 10   0  19   7  29   0 461   3   0 221   0   0   0   0   0   0]\n",
    " [  2   1   0 571  41   1  17   0   3 110   0   3   0   1   0   0]\n",
    " [  0   0   0  21 330   2  16   1   6  75   0   0   0   0   0   0]\n",
    " [ 15   0   0  30  11  16 301  20  14 331   4   2   0   4   0   2]\n",
    " [  0   0   0   4  10   5 631   0   4  96   0   0   0   0   0   0]\n",
    " [  7   4   0  21  19   0 197 223   2 266   2   6   0   3   0   0]\n",
    " [  0   0   0   7  23   1 310   0 181 228   0   0   0   0   0   0]\n",
    " [  0   0   0   9  29   2  49   3   3 652   1   0   0   2   0   0]\n",
    " [  6   0   0  18  16   1 165  41  16 418  56   9   0   4   0   0]\n",
    " [  9   6   0  32  19   0 160  17  12 360   8 126   0   1   0   0]\n",
    " [ 14   0   0  54  35   4  93   8  14 517   2   5   3   1   0   0]\n",
    " [ 11   1   0  71  62   3 240  42  15 243   1  28   0  32   0   0]\n",
    " [ 53   4   0  38  17   5 228  21  11 212   1  11   0   7 142   0]\n",
    " [ 39   0   0  24  19   0 169   9   1 472   0  10   0   2   0   5]]"
   ]
  },
  {
   "cell_type": "code",
   "execution_count": null,
   "metadata": {
    "collapsed": true
   },
   "outputs": [],
   "source": [
    "def cm_analysis(y_true, y_pred, filename, labels, ymap=None, figsize=(10,10)):\n",
    "\n",
    "    cm_sum = np.sum(cm, axis=1, keepdims=True)\n",
    "    cm_perc = cm / cm_sum.astype(float) * 100\n",
    "    annot = np.empty_like(cm).astype(str)\n",
    "    nrows, ncols = cm.shape\n",
    "    for i in range(nrows):\n",
    "        for j in range(ncols):\n",
    "            c = cm[i, j]\n",
    "            p = cm_perc[i, j]\n",
    "            if i == j:\n",
    "                s = cm_sum[i]\n",
    "                annot[i, j] = '%.1f%%\\n%d/%d' % (p, c, s)\n",
    "            elif c == 0:\n",
    "                annot[i, j] = ''\n",
    "            else:\n",
    "                annot[i, j] = '%.1f%%\\n%d' % (p, c)\n",
    "    cm = pd.DataFrame(cm, index=labels, columns=labels)\n",
    "    cm.index.name = 'Actual'\n",
    "    cm.columns.name = 'Predicted'\n",
    "    fig, ax = plt.subplots(figsize=figsize)\n",
    "    sns.heatmap(cm, annot=annot, fmt='', ax=ax)\n",
    "    plt.savefig(filename)"
   ]
  }
 ],
 "metadata": {
  "kernelspec": {
   "display_name": "Python 3",
   "language": "python",
   "name": "python3"
  },
  "language_info": {
   "codemirror_mode": {
    "name": "ipython",
    "version": 3
   },
   "file_extension": ".py",
   "mimetype": "text/x-python",
   "name": "python",
   "nbconvert_exporter": "python",
   "pygments_lexer": "ipython3",
   "version": "3.6.3"
  }
 },
 "nbformat": 4,
 "nbformat_minor": 2
}
