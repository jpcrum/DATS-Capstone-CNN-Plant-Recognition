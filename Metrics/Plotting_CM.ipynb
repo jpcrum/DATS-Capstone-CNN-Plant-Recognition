{
 "cells": [
  {
   "cell_type": "code",
   "execution_count": 1,
   "metadata": {
    "collapsed": true
   },
   "outputs": [],
   "source": [
    "import numpy as np\n",
    "import pandas as pd\n",
    "import matplotlib.pyplot as plt\n",
    "import seaborn as sns\n",
    "from sklearn.metrics import confusion_matrix"
   ]
  },
  {
   "cell_type": "code",
   "execution_count": 2,
   "metadata": {},
   "outputs": [],
   "source": [
    "cm = [[188,0,0,62, 31 ,  4, 106,   8 ,  3 ,339  , 0 ,  9 ,  0 ,  0 ,  0 ,  0],\n",
    " [  9 , 17  , 0 , 89 , 61 ,  3 ,173 , 66 , 18, 229 , 21 , 46 ,  0 , 17 ,  1 ,  0],\n",
    " [ 10  , 0 , 19  , 7 , 29  , 0, 461 ,  3 ,  0, 221 ,  0  , 0 ,  0  , 0  , 0  , 0],\n",
    " [  2  , 1,   0 ,571 , 41 ,  1 , 17  , 0   ,3 ,110 ,  0  , 3  , 0  , 1 ,  0 ,  0],\n",
    " [  0  , 0   ,0  ,21, 330  , 2 , 16  , 1,   6,  75  , 0 ,  0 ,  0 ,  0  , 0 ,  0],\n",
    " [ 15  , 0  , 0,  30 , 11 , 16 ,301 , 20 , 14 ,331 ,  4 ,  2 ,  0 ,  4 ,  0 ,  2],\n",
    " [  0  , 0 ,  0 ,  4 , 10 ,  5, 631,   0 ,  4,  96 ,  0 ,  0 ,  0  , 0  , 0 ,  0],\n",
    " [  7  , 4,   0  ,21 , 19  , 0 ,197 ,223 ,  2 ,266 ,  2  , 6 ,  0 ,  3 ,  0 ,  0],\n",
    " [  0  , 0   ,0   ,7  ,23 ,  1, 310 ,  0, 181, 228 ,  0 ,  0 ,  0 ,  0 ,  0 ,  0],\n",
    " [  0  , 0  , 0   ,9 , 29  , 2 , 49  , 3  , 3 ,652 ,  1  , 0 ,  0  , 2  , 0 ,  0],\n",
    " [  6  , 0 ,  0,  18  ,16 ,  1, 165 , 41 , 16, 418 , 56 ,  9,   0 ,  4 ,  0 ,  0],\n",
    " [  9  , 6,   0  ,32 , 19 ,  0 ,160 , 17 , 12 ,360 ,  8, 126 ,  0 ,  1 ,  0  , 0],\n",
    " [ 14  , 0   ,0 , 54 , 35 ,  4 , 93 ,  8,  14, 517 ,  2 ,  5 ,  3 ,  1 ,  0  , 0],\n",
    " [ 11  , 1  , 0 , 71 , 62  , 3 ,240 , 42 , 15 ,243 ,  1  ,28  , 0  ,32  , 0 ,  0],\n",
    " [ 53  , 4 ,  0 , 38 , 17  , 5, 228 , 21,  11, 212 ,  1 , 11 ,  0  , 7, 142 ,  0],\n",
    " [ 39  , 0,   0 , 24 , 19  , 0 ,169 ,  9 ,  1, 472,   0 , 10 ,  0  , 2 ,  0 ,  5]]"
   ]
  },
  {
   "cell_type": "code",
   "execution_count": null,
   "metadata": {
    "collapsed": true
   },
   "outputs": [],
   "source": [
    "pl"
   ]
  }
 ],
 "metadata": {
  "kernelspec": {
   "display_name": "Python 3",
   "language": "python",
   "name": "python3"
  },
  "language_info": {
   "codemirror_mode": {
    "name": "ipython",
    "version": 3
   },
   "file_extension": ".py",
   "mimetype": "text/x-python",
   "name": "python",
   "nbconvert_exporter": "python",
   "pygments_lexer": "ipython3",
   "version": "3.6.3"
  }
 },
 "nbformat": 4,
 "nbformat_minor": 2
}
