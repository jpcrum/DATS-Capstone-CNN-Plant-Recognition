{
 "cells": [
  {
   "cell_type": "code",
   "execution_count": null,
   "metadata": {
    "collapsed": true
   },
   "outputs": [],
   "source": [
    "import pandas as pd\n",
    "import numpy as np\n",
    "import matplotlib.pyplot as plt\n",
    "import os\n",
    "import cv2\n",
    "import seaborn as sns\n",
    "import random\n",
    "\n",
    "np.random.seed(29)  # For numpy numbers\n",
    "random.seed(29)   # For Python"
   ]
  },
  {
   "cell_type": "code",
   "execution_count": null,
   "metadata": {
    "collapsed": true
   },
   "outputs": [],
   "source": [
    "#### Extract all file paths #####\n",
    "\n",
    "def extract_file_paths(path):\n",
    "    image_filenames = []\n",
    "    for root, dirs, files in os.walk(path):\n",
    "        if len(files) > 0:\n",
    "            for file in files:\n",
    "                if(file[-3:] == \"png\" or file[-3:] == \"PNG\"):\n",
    "                    image_filenames.append(str(root)+os.sep+str(file))\n",
    "    print(len(image_filenames))\n",
    "    return image_filenames\n"
   ]
  },
  {
   "cell_type": "code",
   "execution_count": null,
   "metadata": {
    "scrolled": true
   },
   "outputs": [],
   "source": [
    "#Original Data Distribution\n",
    "\n",
    "image_filenames = extract_file_paths(\"C:/Users/sjcrum/Documents/GitHub/Plant-Image-Recognition/Original Data/train\")\n",
    "\n",
    "species = []\n",
    "for image in image_filenames:\n",
    "    path = os.path.dirname(image)\n",
    "    base = os.path.basename(path)\n",
    "    species.append(base)\n",
    "\n",
    "species_count = [[x,species.count(x)] for x in set(species)]\n",
    "species_df = pd.DataFrame(species_count, columns=[\"Species\", \"Count\"])\n",
    "print(species_df)\n",
    "#species_df.to_csv(\"Augmentation.csv\")"
   ]
  },
  {
   "cell_type": "code",
   "execution_count": null,
   "metadata": {},
   "outputs": [],
   "source": [
    "#Plot Originial Dataset\n",
    "\n",
    "plt.bar(species_df.Species, species_df.Count, color = '#18B848')\n",
    "plt.title(\"Frequency of Species in Training Data\")\n",
    "plt.xlabel(\"Species\")\n",
    "plt.ylabel(\"Number of Images\")\n",
    "plt.xticks(rotation = 80)\n",
    "plt.show()"
   ]
  },
  {
   "cell_type": "code",
   "execution_count": null,
   "metadata": {
    "collapsed": true
   },
   "outputs": [],
   "source": [
    "# Get list of species and the dimensions of each image\n",
    "\n",
    "species_list = []\n",
    "height = []\n",
    "width = []\n",
    "\n",
    "for image in image_filenames:\n",
    "    img = cv2.imread(image)\n",
    "    path = os.path.dirname(image)\n",
    "    base = os.path.basename(path)\n",
    "    species_list.append(base)\n",
    "    height.append(img.shape[0])\n",
    "    width.append(img.shape[1])\n"
   ]
  },
  {
   "cell_type": "code",
   "execution_count": null,
   "metadata": {
    "collapsed": true
   },
   "outputs": [],
   "source": [
    "#Convert to Dataframe\n",
    "\n",
    "image_dim = {\"Species\": species_list, \"Height\": height, \"Width\": width}\n",
    "image_dim_df = pd.DataFrame(image_dim, columns = [\"Species\", \"Height\", \"Width\"])\n"
   ]
  },
  {
   "cell_type": "code",
   "execution_count": null,
   "metadata": {
    "collapsed": true
   },
   "outputs": [],
   "source": [
    "image_dim_df.groupby('Species').quantile([0, 0.25, 0.5, 0.75, 1])"
   ]
  },
  {
   "cell_type": "code",
   "execution_count": null,
   "metadata": {
    "collapsed": true
   },
   "outputs": [],
   "source": [
    "sns.distplot(height, hist=True, kde=True, bins=50, color = 'darkblue', hist_kws={'edgecolor':'black'}, kde_kws={'linewidth': 1})\n",
    "\n",
    "plt.title('Image Height Distribution')\n",
    "plt.xlabel('Image Height')\n",
    "plt.ylabel('Density')\n",
    "plt.show()"
   ]
  },
  {
   "cell_type": "code",
   "execution_count": null,
   "metadata": {
    "collapsed": true
   },
   "outputs": [],
   "source": [
    "### Creating Validation Folders and Dataset ###\n",
    "\n",
    "validpath = r'C:/Users/sjcrum/Documents/GitHub/Plant-Image-Recognition/PlantImages/validation' \n",
    "if not os.path.exists(validpath):\n",
    "    os.makedirs(validpath)\n",
    "testpath = r'C:/Users/sjcrum/Documents/GitHub/Plant-Image-Recognition/PlantImages/test' \n",
    "if not os.path.exists(testpath):\n",
    "    os.makedirs(testpath)\n",
    "for i in set(species):\n",
    "    path = 'C:/Users/sjcrum/Documents/GitHub/Plant-Image-Recognition/PlantImages/validation/{}'.format(i)\n",
    "    if not os.path.exists(path):\n",
    "        os.makedirs(path) \n",
    "for i in set(species):\n",
    "    path = 'C:/Users/sjcrum/Documents/GitHub/Plant-Image-Recognition/PlantImages/test/{}'.format(i)\n",
    "    if not os.path.exists(path):\n",
    "        os.makedirs(path) "
   ]
  },
  {
   "cell_type": "code",
   "execution_count": null,
   "metadata": {},
   "outputs": [],
   "source": [
    "path = 'C:/Users/sjcrum/Documents/GitHub/Plant-Image-Recognition/PlantImages/train'\n",
    "roots = []\n",
    "for root, dirs, files in os.walk(path):\n",
    "    roots.append(root)\n",
    "    \n",
    "print(roots[1:])\n",
    "\n",
    "# for root in roots[1:]:  \n",
    "#     images = []\n",
    "#     for root, dirs, files in os.walk(root):\n",
    "#         for file in files:\n",
    "#             images.append(str(root)+os.sep+str(file))\n",
    "#     random.shuffle(images)\n",
    "#     valid_images = images[:int(0.15 * len(images))]\n",
    "#     print(len(valid_images))\n",
    "#     for image in valid_images:\n",
    "#         split_im = image.split(\"train\",1)\n",
    "#         os.rename(image, split_im[0]+'validation'+split_im[1])\n",
    "\n",
    "# for root in roots[1:]:  \n",
    "#     images = []\n",
    "#     for root, dirs, files in os.walk(root):\n",
    "#         for file in files:\n",
    "#             images.append(str(root)+os.sep+str(file))\n",
    "#     random.shuffle(images)\n",
    "#     test_images = images[:int(0.25 * len(images))]\n",
    "#     print(len(test_images))\n",
    "#     for image in test_images:\n",
    "#         split_im = image.split(\"train\",1)\n",
    "#         os.rename(image, split_im[0]+'test'+split_im[1])\n",
    "\n",
    "print(set(species))"
   ]
  },
  {
   "cell_type": "code",
   "execution_count": null,
   "metadata": {},
   "outputs": [],
   "source": [
    "extract_file_paths(\"C:/Users/sjcrum/Documents/GitHub/Plant-Image-Recognition/PlantImages/train\")\n",
    "\n",
    "species = []\n",
    "for image in image_filenames:\n",
    "    path = os.path.dirname(image)\n",
    "    base = os.path.basename(path)\n",
    "    species.append(base)\n",
    "\n",
    "species_count = [[x,species.count(x)] for x in set(species)]\n",
    "species_df = pd.DataFrame(species_count, columns=[\"Species\", \"Count\"])\n",
    "print(species_df)"
   ]
  },
  {
   "cell_type": "code",
   "execution_count": null,
   "metadata": {
    "collapsed": true
   },
   "outputs": [],
   "source": []
  }
 ],
 "metadata": {
  "kernelspec": {
   "display_name": "Python 3",
   "language": "python",
   "name": "python3"
  },
  "language_info": {
   "codemirror_mode": {
    "name": "ipython",
    "version": 3
   },
   "file_extension": ".py",
   "mimetype": "text/x-python",
   "name": "python",
   "nbconvert_exporter": "python",
   "pygments_lexer": "ipython3",
   "version": "3.6.3"
  }
 },
 "nbformat": 4,
 "nbformat_minor": 2
}
