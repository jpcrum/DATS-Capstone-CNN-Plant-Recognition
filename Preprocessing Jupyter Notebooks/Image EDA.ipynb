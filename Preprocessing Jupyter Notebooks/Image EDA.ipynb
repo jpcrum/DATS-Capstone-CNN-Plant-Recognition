{
 "cells": [
  {
   "cell_type": "code",
   "execution_count": 1,
   "metadata": {
    "collapsed": true
   },
   "outputs": [],
   "source": [
    "import pandas as pd\n",
    "import numpy as np\n",
    "import matplotlib.pyplot as plt\n",
    "import os\n",
    "import cv2\n",
    "import seaborn as sns\n",
    "import random\n",
    "\n",
    "np.random.seed(29)  # For numpy numbers\n",
    "random.seed(29)   # For Python"
   ]
  },
  {
   "cell_type": "code",
   "execution_count": 10,
   "metadata": {
    "collapsed": true
   },
   "outputs": [],
   "source": [
    "def extract_file_paths(path):\n",
    "    image_filenames = []\n",
    "    for root, dirs, files in os.walk(path):\n",
    "        if len(files) > 0:\n",
    "            for file in files:\n",
    "                if(file[-3:] == \"png\" or file[-3:] == \"PNG\"):\n",
    "                    image_filenames.append(str(root)+os.sep+str(file))\n",
    "    print(len(image_filenames))\n",
    "    return image_filenames\n"
   ]
  },
  {
   "cell_type": "code",
   "execution_count": 12,
   "metadata": {
    "scrolled": true
   },
   "outputs": [
    {
     "name": "stdout",
     "output_type": "stream",
     "text": [
      "4750\n",
      "                      Species  Count\n",
      "0                       Maize    221\n",
      "1                 Black-grass    263\n",
      "2   Small-flowered Cranesbill    496\n",
      "3             Shepherds Purse    231\n",
      "4            Loose Silky-bent    654\n",
      "5                  Sugar beet    385\n",
      "6           Scentless Mayweed    516\n",
      "7                    Cleavers    287\n",
      "8            Common Chickweed    611\n",
      "9                     Fat Hen    475\n",
      "10               Common wheat    221\n",
      "11                   Charlock    390\n"
     ]
    }
   ],
   "source": [
    "image_filenames = extract_file_paths(\"C:/Users/sjcrum/Documents/GitHub/Plant-Image-Recognition/Original Data/train\")\n",
    "\n",
    "species = []\n",
    "for image in image_filenames:\n",
    "    path = os.path.dirname(image)\n",
    "    base = os.path.basename(path)\n",
    "    species.append(base)\n",
    "\n",
    "species_count = [[x,species.count(x)] for x in set(species)]\n",
    "species_df = pd.DataFrame(species_count, columns=[\"Species\", \"Count\"])\n",
    "print(species_df)\n",
    "#species_df.to_csv(\"Augmentation.csv\")"
   ]
  },
  {
   "cell_type": "code",
   "execution_count": 7,
   "metadata": {},
   "outputs": [
    {
     "data": {
      "image/png": "[encoded data removed]",
      "text/plain": [
       "<Figure size 432x288 with 1 Axes>"
      ]
     },
     "metadata": {},
     "output_type": "display_data"
    }
   ],
   "source": [
    "plt.bar(species_df.Species, species_df.Count, color = '#18B848')\n",
    "plt.title(\"Frequency of Species in Training Data\")\n",
    "plt.xlabel(\"Species\")\n",
    "plt.ylabel(\"Number of Images\")\n",
    "plt.xticks(rotation = 80)\n",
    "plt.show()"
   ]
  },
  {
   "cell_type": "code",
   "execution_count": null,
   "metadata": {},
   "outputs": [],
   "source": [
    "species_list = []\n",
    "height = []\n",
    "width = []\n",
    "\n",
    "for image in image_filenames:\n",
    "    img = cv2.imread(image)\n",
    "    path = os.path.dirname(image)\n",
    "    base = os.path.basename(path)\n",
    "    species_list.append(base)\n",
    "    height.append(img.shape[0])\n",
    "    width.append(img.shape[1])\n"
   ]
  },
  {
   "cell_type": "code",
   "execution_count": null,
   "metadata": {
    "collapsed": true
   },
   "outputs": [],
   "source": [
    "image_dim = {\"Species\": species_list, \"Height\": height, \"Width\": width}\n",
    "image_dim_df = pd.DataFrame(image_dim, columns = [\"Species\", \"Height\", \"Width\"])\n"
   ]
  },
  {
   "cell_type": "code",
   "execution_count": null,
   "metadata": {},
   "outputs": [],
   "source": [
    "image_dim_df.groupby('Species').quantile([0, 0.25, 0.5, 0.75, 1])"
   ]
  },
  {
   "cell_type": "code",
   "execution_count": null,
   "metadata": {},
   "outputs": [],
   "source": [
    "sns.distplot(height, hist=True, kde=True, bins=50, color = 'darkblue', hist_kws={'edgecolor':'black'}, kde_kws={'linewidth': 1})\n",
    "\n",
    "plt.title('Image Height Distribution')\n",
    "plt.xlabel('Image Height')\n",
    "plt.ylabel('Density')\n",
    "plt.show()"
   ]
  },
  {
   "cell_type": "code",
   "execution_count": null,
   "metadata": {
    "collapsed": true
   },
   "outputs": [],
   "source": [
    "### Creating Validation Folders and Dataset ###\n",
    "\n",
    "validpath = r'C:/Users/sjcrum/Documents/GitHub/Plant-Image-Recognition/PlantImages/validation' \n",
    "if not os.path.exists(validpath):\n",
    "    os.makedirs(validpath)\n",
    "testpath = r'C:/Users/sjcrum/Documents/GitHub/Plant-Image-Recognition/PlantImages/test' \n",
    "if not os.path.exists(testpath):\n",
    "    os.makedirs(testpath)\n",
    "for i in set(species):\n",
    "    path = 'C:/Users/sjcrum/Documents/GitHub/Plant-Image-Recognition/PlantImages/validation/{}'.format(i)\n",
    "    if not os.path.exists(path):\n",
    "        os.makedirs(path) \n",
    "for i in set(species):\n",
    "    path = 'C:/Users/sjcrum/Documents/GitHub/Plant-Image-Recognition/PlantImages/test/{}'.format(i)\n",
    "    if not os.path.exists(path):\n",
    "        os.makedirs(path) "
   ]
  },
  {
   "cell_type": "code",
   "execution_count": 7,
   "metadata": {},
   "outputs": [
    {
     "name": "stdout",
     "output_type": "stream",
     "text": [
      "['C:/Users/sjcrum/Documents/GitHub/Plant-Image-Recognition/PlantImages/train\\\\Black-grass', 'C:/Users/sjcrum/Documents/GitHub/Plant-Image-Recognition/PlantImages/train\\\\Charlock', 'C:/Users/sjcrum/Documents/GitHub/Plant-Image-Recognition/PlantImages/train\\\\Cleavers', 'C:/Users/sjcrum/Documents/GitHub/Plant-Image-Recognition/PlantImages/train\\\\Common Chickweed', 'C:/Users/sjcrum/Documents/GitHub/Plant-Image-Recognition/PlantImages/train\\\\Common wheat', 'C:/Users/sjcrum/Documents/GitHub/Plant-Image-Recognition/PlantImages/train\\\\Fat Hen', 'C:/Users/sjcrum/Documents/GitHub/Plant-Image-Recognition/PlantImages/train\\\\Loose Silky-bent', 'C:/Users/sjcrum/Documents/GitHub/Plant-Image-Recognition/PlantImages/train\\\\Maize', 'C:/Users/sjcrum/Documents/GitHub/Plant-Image-Recognition/PlantImages/train\\\\Scentless Mayweed', 'C:/Users/sjcrum/Documents/GitHub/Plant-Image-Recognition/PlantImages/train\\\\Shepherds Purse', 'C:/Users/sjcrum/Documents/GitHub/Plant-Image-Recognition/PlantImages/train\\\\Small-flowered Cranesbill', 'C:/Users/sjcrum/Documents/GitHub/Plant-Image-Recognition/PlantImages/train\\\\Sugar beet']\n",
      "631\n",
      "702\n",
      "688\n",
      "733\n",
      "530\n",
      "570\n",
      "784\n",
      "530\n",
      "619\n",
      "554\n",
      "595\n",
      "693\n",
      "894\n",
      "994\n",
      "976\n",
      "1038\n",
      "751\n",
      "807\n",
      "1112\n",
      "751\n",
      "877\n",
      "785\n",
      "843\n",
      "981\n",
      "{'Common Chickweed', 'Shepherds Purse', 'Small-flowered Cranesbill', 'Sugar beet', 'Cleavers', 'Black-grass', 'Charlock', 'Maize', 'Scentless Mayweed', 'Fat Hen', 'Loose Silky-bent', 'Common wheat'}\n"
     ]
    }
   ],
   "source": [
    "path = 'C:/Users/sjcrum/Documents/GitHub/Plant-Image-Recognition/PlantImages/train'\n",
    "roots = []\n",
    "for root, dirs, files in os.walk(path):\n",
    "    roots.append(root)\n",
    "    \n",
    "print(roots[1:])\n",
    "\n",
    "# for root in roots[1:]:  \n",
    "#     images = []\n",
    "#     for root, dirs, files in os.walk(root):\n",
    "#         for file in files:\n",
    "#             images.append(str(root)+os.sep+str(file))\n",
    "#     random.shuffle(images)\n",
    "#     valid_images = images[:int(0.15 * len(images))]\n",
    "#     print(len(valid_images))\n",
    "#     for image in valid_images:\n",
    "#         split_im = image.split(\"train\",1)\n",
    "#         os.rename(image, split_im[0]+'validation'+split_im[1])\n",
    "\n",
    "# for root in roots[1:]:  \n",
    "#     images = []\n",
    "#     for root, dirs, files in os.walk(root):\n",
    "#         for file in files:\n",
    "#             images.append(str(root)+os.sep+str(file))\n",
    "#     random.shuffle(images)\n",
    "#     test_images = images[:int(0.25 * len(images))]\n",
    "#     print(len(test_images))\n",
    "#     for image in test_images:\n",
    "#         split_im = image.split(\"train\",1)\n",
    "#         os.rename(image, split_im[0]+'test'+split_im[1])\n",
    "\n",
    "print(set(species))"
   ]
  },
  {
   "cell_type": "code",
   "execution_count": 11,
   "metadata": {},
   "outputs": [
    {
     "name": "stdout",
     "output_type": "stream",
     "text": [
      "32446\n",
      "                      Species  Count\n",
      "0            Common Chickweed   3117\n",
      "1             Shepherds Purse   2357\n",
      "2   Small-flowered Cranesbill   2530\n",
      "3                  Sugar beet   2946\n",
      "4                    Cleavers   2928\n",
      "5                 Black-grass   2683\n",
      "6                    Charlock   2984\n",
      "7                       Maize   2255\n",
      "8           Scentless Mayweed   2632\n",
      "9                     Fat Hen   2423\n",
      "10           Loose Silky-bent   3336\n",
      "11               Common wheat   2255\n"
     ]
    }
   ],
   "source": [
    "extract_file_paths(\"C:/Users/sjcrum/Documents/GitHub/Plant-Image-Recognition/PlantImages/train\")\n",
    "\n",
    "species = []\n",
    "for image in image_filenames:\n",
    "    path = os.path.dirname(image)\n",
    "    base = os.path.basename(path)\n",
    "    species.append(base)\n",
    "\n",
    "species_count = [[x,species.count(x)] for x in set(species)]\n",
    "species_df = pd.DataFrame(species_count, columns=[\"Species\", \"Count\"])\n",
    "print(species_df)"
   ]
  },
  {
   "cell_type": "code",
   "execution_count": null,
   "metadata": {
    "collapsed": true
   },
   "outputs": [],
   "source": []
  }
 ],
 "metadata": {
  "kernelspec": {
   "display_name": "Python 3",
   "language": "python",
   "name": "python3"
  },
  "language_info": {
   "codemirror_mode": {
    "name": "ipython",
    "version": 3
   },
   "file_extension": ".py",
   "mimetype": "text/x-python",
   "name": "python",
   "nbconvert_exporter": "python",
   "pygments_lexer": "ipython3",
   "version": "3.6.3"
  }
 },
 "nbformat": 4,
 "nbformat_minor": 2
}
