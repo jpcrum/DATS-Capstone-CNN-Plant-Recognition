{
 "cells": [
  {
   "cell_type": "code",
   "execution_count": 1,
   "metadata": {
    "collapsed": true
   },
   "outputs": [],
   "source": [
    "import pandas as pd\n",
    "import numpy as np\n",
    "import matplotlib.pyplot as plt\n",
    "import os\n",
    "import cv2\n",
    "import seaborn as sns\n",
    "import random\n",
    "\n",
    "np.random.seed(29)  # For numpy numbers\n",
    "random.seed(29)   # For Python"
   ]
  },
  {
   "cell_type": "code",
   "execution_count": 2,
   "metadata": {
    "collapsed": true
   },
   "outputs": [],
   "source": [
    "#### Extract all file paths #####\n",
    "\n",
    "def extract_file_paths(path):\n",
    "    image_filenames = []\n",
    "    for root, dirs, files in os.walk(path):\n",
    "        if len(files) > 0:\n",
    "            for file in files:\n",
    "                if(file[-3:] == \"png\" or file[-3:] == \"PNG\"):\n",
    "                    image_filenames.append(str(root)+os.sep+str(file))\n",
    "    print(len(image_filenames))\n",
    "    return image_filenames\n"
   ]
  },
  {
   "cell_type": "code",
   "execution_count": 3,
   "metadata": {
    "scrolled": true
   },
   "outputs": [
    {
     "name": "stdout",
     "output_type": "stream",
     "text": [
      "4750\n",
      "                      Species  Count\n",
      "0            Loose Silky-bent    654\n",
      "1                    Cleavers    287\n",
      "2                       Maize    221\n",
      "3   Small-flowered Cranesbill    496\n",
      "4           Scentless Mayweed    516\n",
      "5             Shepherds Purse    231\n",
      "6                  Sugar beet    385\n",
      "7            Common Chickweed    611\n",
      "8                 Black-grass    263\n",
      "9                Common wheat    221\n",
      "10                   Charlock    390\n",
      "11                    Fat Hen    475\n"
     ]
    }
   ],
   "source": [
    "#Original Data Distribution\n",
    "\n",
    "image_filenames = extract_file_paths(\"C:/Users/sjcrum/Documents/GitHub/Plant-Image-Recognition/Original Data/train\")\n",
    "\n",
    "species = []\n",
    "for image in image_filenames:\n",
    "    path = os.path.dirname(image)\n",
    "    base = os.path.basename(path)\n",
    "    species.append(base)\n",
    "\n",
    "species_count = [[x,species.count(x)] for x in set(species)]\n",
    "species_df = pd.DataFrame(species_count, columns=[\"Species\", \"Count\"])\n",
    "print(species_df)\n",
    "#species_df.to_csv(\"Augmentation.csv\")"
   ]
  },
  {
   "cell_type": "code",
   "execution_count": 4,
   "metadata": {},
   "outputs": [
    {
     "data": {
      "image/png": "[encoded data removed]",
      "text/plain": [
       "<Figure size 432x288 with 1 Axes>"
      ]
     },
     "metadata": {},
     "output_type": "display_data"
    }
   ],
   "source": [
    "#Plot Originial Dataset\n",
    "\n",
    "plt.bar(species_df.Species, species_df.Count, color = '#18B848')\n",
    "plt.title(\"Frequency of Species in Training Data\")\n",
    "plt.xlabel(\"Species\")\n",
    "plt.ylabel(\"Number of Images\")\n",
    "plt.xticks(rotation = 80)\n",
    "plt.show()"
   ]
  },
  {
   "cell_type": "code",
   "execution_count": 5,
   "metadata": {},
   "outputs": [
    {
     "ename": "KeyboardInterrupt",
     "evalue": "",
     "output_type": "error",
     "traceback": [
      "\u001b[1;31m---------------------------------------------------------------------------\u001b[0m",
      "\u001b[1;31mKeyboardInterrupt\u001b[0m                         Traceback (most recent call last)",
      "\u001b[1;32m<ipython-input-5-c8f64517a6a1>\u001b[0m in \u001b[0;36m<module>\u001b[1;34m()\u001b[0m\n\u001b[0;32m      4\u001b[0m \u001b[1;33m\u001b[0m\u001b[0m\n\u001b[0;32m      5\u001b[0m \u001b[1;32mfor\u001b[0m \u001b[0mimage\u001b[0m \u001b[1;32min\u001b[0m \u001b[0mimage_filenames\u001b[0m\u001b[1;33m:\u001b[0m\u001b[1;33m\u001b[0m\u001b[0m\n\u001b[1;32m----> 6\u001b[1;33m     \u001b[0mimg\u001b[0m \u001b[1;33m=\u001b[0m \u001b[0mcv2\u001b[0m\u001b[1;33m.\u001b[0m\u001b[0mimread\u001b[0m\u001b[1;33m(\u001b[0m\u001b[0mimage\u001b[0m\u001b[1;33m)\u001b[0m\u001b[1;33m\u001b[0m\u001b[0m\n\u001b[0m\u001b[0;32m      7\u001b[0m     \u001b[0mpath\u001b[0m \u001b[1;33m=\u001b[0m \u001b[0mos\u001b[0m\u001b[1;33m.\u001b[0m\u001b[0mpath\u001b[0m\u001b[1;33m.\u001b[0m\u001b[0mdirname\u001b[0m\u001b[1;33m(\u001b[0m\u001b[0mimage\u001b[0m\u001b[1;33m)\u001b[0m\u001b[1;33m\u001b[0m\u001b[0m\n\u001b[0;32m      8\u001b[0m     \u001b[0mbase\u001b[0m \u001b[1;33m=\u001b[0m \u001b[0mos\u001b[0m\u001b[1;33m.\u001b[0m\u001b[0mpath\u001b[0m\u001b[1;33m.\u001b[0m\u001b[0mbasename\u001b[0m\u001b[1;33m(\u001b[0m\u001b[0mpath\u001b[0m\u001b[1;33m)\u001b[0m\u001b[1;33m\u001b[0m\u001b[0m\n",
      "\u001b[1;31mKeyboardInterrupt\u001b[0m: "
     ]
    }
   ],
   "source": [
    "# Get list of species and the dimensions of each image\n",
    "\n",
    "species_list = []\n",
    "height = []\n",
    "width = []\n",
    "\n",
    "for image in image_filenames:\n",
    "    img = cv2.imread(image)\n",
    "    path = os.path.dirname(image)\n",
    "    base = os.path.basename(path)\n",
    "    species_list.append(base)\n",
    "    height.append(img.shape[0])\n",
    "    width.append(img.shape[1])\n"
   ]
  },
  {
   "cell_type": "code",
   "execution_count": null,
   "metadata": {
    "collapsed": true
   },
   "outputs": [],
   "source": [
    "#Convert to Dataframe\n",
    "\n",
    "image_dim = {\"Species\": species_list, \"Height\": height, \"Width\": width}\n",
    "image_dim_df = pd.DataFrame(image_dim, columns = [\"Species\", \"Height\", \"Width\"])\n"
   ]
  },
  {
   "cell_type": "code",
   "execution_count": null,
   "metadata": {
    "collapsed": true
   },
   "outputs": [],
   "source": [
    "#Check image size for each species by quartiles\n",
    "\n",
    "image_dim_df.groupby('Species').quantile([0, 0.25, 0.5, 0.75, 1])"
   ]
  },
  {
   "cell_type": "code",
   "execution_count": null,
   "metadata": {
    "collapsed": true
   },
   "outputs": [],
   "source": [
    "#Plot image dimension distribution\n",
    "\n",
    "sns.distplot(height, hist=True, kde=True, bins=50, color = 'darkblue', hist_kws={'edgecolor':'black'}, kde_kws={'linewidth': 1})\n",
    "\n",
    "plt.title('Image Height Distribution')\n",
    "plt.xlabel('Image Height')\n",
    "plt.ylabel('Density')\n",
    "plt.show()"
   ]
  },
  {
   "cell_type": "code",
   "execution_count": null,
   "metadata": {
    "collapsed": true
   },
   "outputs": [],
   "source": [
    "### Creating Validation Folders and Dataset ###\n",
    "\n",
    "#Make empty validation and testing directories\n",
    "validpath = r'C:/Users/sjcrum/Documents/GitHub/Plant-Image-Recognition/PlantImages/validation' \n",
    "if not os.path.exists(validpath):\n",
    "    os.makedirs(validpath)\n",
    "testpath = r'C:/Users/sjcrum/Documents/GitHub/Plant-Image-Recognition/PlantImages/test' \n",
    "if not os.path.exists(testpath):\n",
    "    os.makedirs(testpath)\n",
    "\n",
    "#Make empty species folders in each validation and testing directories\n",
    "for i in set(species):\n",
    "    path = 'C:/Users/sjcrum/Documents/GitHub/Plant-Image-Recognition/PlantImages/validation/{}'.format(i)\n",
    "    if not os.path.exists(path):\n",
    "        os.makedirs(path) \n",
    "for i in set(species):\n",
    "    path = 'C:/Users/sjcrum/Documents/GitHub/Plant-Image-Recognition/PlantImages/test/{}'.format(i)\n",
    "    if not os.path.exists(path):\n",
    "        os.makedirs(path) "
   ]
  },
  {
   "cell_type": "code",
   "execution_count": null,
   "metadata": {},
   "outputs": [],
   "source": [
    "#### Populating validation and testing datasets #### \n",
    "\n",
    "#Reset path to augmented training dataset\n",
    "path = 'C:/Users/sjcrum/Documents/GitHub/Plant-Image-Recognition/PlantImages/train'\n",
    "roots = []\n",
    "for root, dirs, files in os.walk(path):\n",
    "    roots.append(root)\n",
    "    \n",
    "print(roots[1:])\n",
    "\n",
    "# Shuffle training, select first 15%, and redirect to validation directory into the appropriate species folder\n",
    "\n",
    "for root in roots[1:]:  \n",
    "    images = []\n",
    "    for root, dirs, files in os.walk(root):\n",
    "        for file in files:\n",
    "            images.append(str(root)+os.sep+str(file))\n",
    "    random.shuffle(images)\n",
    "    valid_images = images[:int(0.15 * len(images))]\n",
    "    print(len(valid_images))\n",
    "    for image in valid_images:\n",
    "        split_im = image.split(\"train\",1)\n",
    "        os.rename(image, split_im[0]+'validation'+split_im[1])\n",
    "\n",
    "\n",
    "Shuffle training, select first 25%, and redirect to testing directory into the appropriate species folder\n",
    "\n",
    "for root in roots[1:]:  \n",
    "    images = []\n",
    "    for root, dirs, files in os.walk(root):\n",
    "        for file in files:\n",
    "            images.append(str(root)+os.sep+str(file))\n",
    "    random.shuffle(images)\n",
    "    test_images = images[:int(0.25 * len(images))]\n",
    "    print(len(test_images))\n",
    "    for image in test_images:\n",
    "        split_im = image.split(\"train\",1)\n",
    "        os.rename(image, split_im[0]+'test'+split_im[1])\n",
    "\n",
    "print(set(species))"
   ]
  },
  {
   "cell_type": "code",
   "execution_count": null,
   "metadata": {},
   "outputs": [],
   "source": [
    "#Get new count of species in training dataset\n",
    "\n",
    "extract_file_paths(\"C:/Users/sjcrum/Documents/GitHub/Plant-Image-Recognition/PlantImages/train\")\n",
    "\n",
    "species = []\n",
    "for image in image_filenames:\n",
    "    path = os.path.dirname(image)\n",
    "    base = os.path.basename(path)\n",
    "    species.append(base)\n",
    "\n",
    "species_count = [[x,species.count(x)] for x in set(species)]\n",
    "species_df = pd.DataFrame(species_count, columns=[\"Species\", \"Count\"])\n",
    "print(species_df)"
   ]
  },
  {
   "cell_type": "code",
   "execution_count": null,
   "metadata": {
    "collapsed": true
   },
   "outputs": [],
   "source": []
  }
 ],
 "metadata": {
  "kernelspec": {
   "display_name": "Python 3",
   "language": "python",
   "name": "python3"
  }
 },
 "nbformat": 4,
 "nbformat_minor": 2
}
